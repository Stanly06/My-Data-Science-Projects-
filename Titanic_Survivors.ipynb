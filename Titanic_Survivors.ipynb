{
 "cells": [
  {
   "cell_type": "markdown",
   "id": "9e4872bd",
   "metadata": {},
   "source": [
    "# Introducción"
   ]
  },
  {
   "cell_type": "raw",
   "id": "df6a8505",
   "metadata": {},
   "source": [
    "El análisis de datos es una técnica fundamental en el mundo de la tecnología y los negocios. Es una herramienta que permite a las empresas y a los científicos obtener información valiosa a partir de grandes conjuntos de datos. En este proyecto, utilizaremos Python para analizar un conjunto de datos de Titanic y obtener información relevante para entender la supervivencia de los pasajeros."
   ]
  },
  {
   "cell_type": "code",
   "execution_count": 20,
   "id": "74d0e555",
   "metadata": {},
   "outputs": [],
   "source": [
    "import pandas as pd\n",
    "import numpy as np\n",
    "import seaborn as sns\n",
    "import matplotlib.pyplot as plt\n"
   ]
  },
  {
   "cell_type": "markdown",
   "id": "7ea784a8",
   "metadata": {},
   "source": [
    "# Carga y exploración de los datos"
   ]
  },
  {
   "cell_type": "code",
   "execution_count": 3,
   "id": "a60cded1",
   "metadata": {},
   "outputs": [],
   "source": [
    "titanic_data = pd.read_csv('train.csv')\n"
   ]
  },
  {
   "cell_type": "code",
   "execution_count": 19,
   "id": "2e8228de",
   "metadata": {},
   "outputs": [
    {
     "data": {
      "text/html": [
       "<div>\n",
       "<style scoped>\n",
       "    .dataframe tbody tr th:only-of-type {\n",
       "        vertical-align: middle;\n",
       "    }\n",
       "\n",
       "    .dataframe tbody tr th {\n",
       "        vertical-align: top;\n",
       "    }\n",
       "\n",
       "    .dataframe thead th {\n",
       "        text-align: right;\n",
       "    }\n",
       "</style>\n",
       "<table border=\"1\" class=\"dataframe\">\n",
       "  <thead>\n",
       "    <tr style=\"text-align: right;\">\n",
       "      <th></th>\n",
       "      <th>Survived</th>\n",
       "      <th>Pclass</th>\n",
       "      <th>Sex</th>\n",
       "      <th>Age</th>\n",
       "      <th>SibSp</th>\n",
       "      <th>Parch</th>\n",
       "      <th>Fare</th>\n",
       "      <th>Embarked</th>\n",
       "      <th>AgeGroup</th>\n",
       "      <th>FamilySize</th>\n",
       "    </tr>\n",
       "  </thead>\n",
       "  <tbody>\n",
       "    <tr>\n",
       "      <th>0</th>\n",
       "      <td>0</td>\n",
       "      <td>3</td>\n",
       "      <td>male</td>\n",
       "      <td>22.0</td>\n",
       "      <td>1</td>\n",
       "      <td>0</td>\n",
       "      <td>7.2500</td>\n",
       "      <td>S</td>\n",
       "      <td>19-25</td>\n",
       "      <td>2</td>\n",
       "    </tr>\n",
       "    <tr>\n",
       "      <th>1</th>\n",
       "      <td>1</td>\n",
       "      <td>1</td>\n",
       "      <td>female</td>\n",
       "      <td>38.0</td>\n",
       "      <td>1</td>\n",
       "      <td>0</td>\n",
       "      <td>71.2833</td>\n",
       "      <td>C</td>\n",
       "      <td>26-40</td>\n",
       "      <td>2</td>\n",
       "    </tr>\n",
       "    <tr>\n",
       "      <th>2</th>\n",
       "      <td>1</td>\n",
       "      <td>3</td>\n",
       "      <td>female</td>\n",
       "      <td>26.0</td>\n",
       "      <td>0</td>\n",
       "      <td>0</td>\n",
       "      <td>7.9250</td>\n",
       "      <td>S</td>\n",
       "      <td>26-40</td>\n",
       "      <td>1</td>\n",
       "    </tr>\n",
       "    <tr>\n",
       "      <th>3</th>\n",
       "      <td>1</td>\n",
       "      <td>1</td>\n",
       "      <td>female</td>\n",
       "      <td>35.0</td>\n",
       "      <td>1</td>\n",
       "      <td>0</td>\n",
       "      <td>53.1000</td>\n",
       "      <td>S</td>\n",
       "      <td>26-40</td>\n",
       "      <td>2</td>\n",
       "    </tr>\n",
       "    <tr>\n",
       "      <th>4</th>\n",
       "      <td>0</td>\n",
       "      <td>3</td>\n",
       "      <td>male</td>\n",
       "      <td>35.0</td>\n",
       "      <td>0</td>\n",
       "      <td>0</td>\n",
       "      <td>8.0500</td>\n",
       "      <td>S</td>\n",
       "      <td>26-40</td>\n",
       "      <td>1</td>\n",
       "    </tr>\n",
       "    <tr>\n",
       "      <th>6</th>\n",
       "      <td>0</td>\n",
       "      <td>1</td>\n",
       "      <td>male</td>\n",
       "      <td>54.0</td>\n",
       "      <td>0</td>\n",
       "      <td>0</td>\n",
       "      <td>51.8625</td>\n",
       "      <td>S</td>\n",
       "      <td>41-60</td>\n",
       "      <td>1</td>\n",
       "    </tr>\n",
       "    <tr>\n",
       "      <th>7</th>\n",
       "      <td>0</td>\n",
       "      <td>3</td>\n",
       "      <td>male</td>\n",
       "      <td>2.0</td>\n",
       "      <td>3</td>\n",
       "      <td>1</td>\n",
       "      <td>21.0750</td>\n",
       "      <td>S</td>\n",
       "      <td>0-18</td>\n",
       "      <td>5</td>\n",
       "    </tr>\n",
       "    <tr>\n",
       "      <th>8</th>\n",
       "      <td>1</td>\n",
       "      <td>3</td>\n",
       "      <td>female</td>\n",
       "      <td>27.0</td>\n",
       "      <td>0</td>\n",
       "      <td>2</td>\n",
       "      <td>11.1333</td>\n",
       "      <td>S</td>\n",
       "      <td>26-40</td>\n",
       "      <td>3</td>\n",
       "    </tr>\n",
       "    <tr>\n",
       "      <th>9</th>\n",
       "      <td>1</td>\n",
       "      <td>2</td>\n",
       "      <td>female</td>\n",
       "      <td>14.0</td>\n",
       "      <td>1</td>\n",
       "      <td>0</td>\n",
       "      <td>30.0708</td>\n",
       "      <td>C</td>\n",
       "      <td>0-18</td>\n",
       "      <td>2</td>\n",
       "    </tr>\n",
       "    <tr>\n",
       "      <th>10</th>\n",
       "      <td>1</td>\n",
       "      <td>3</td>\n",
       "      <td>female</td>\n",
       "      <td>4.0</td>\n",
       "      <td>1</td>\n",
       "      <td>1</td>\n",
       "      <td>16.7000</td>\n",
       "      <td>S</td>\n",
       "      <td>0-18</td>\n",
       "      <td>3</td>\n",
       "    </tr>\n",
       "  </tbody>\n",
       "</table>\n",
       "</div>"
      ],
      "text/plain": [
       "    Survived  Pclass     Sex   Age  SibSp  Parch     Fare Embarked AgeGroup  \\\n",
       "0          0       3    male  22.0      1      0   7.2500        S    19-25   \n",
       "1          1       1  female  38.0      1      0  71.2833        C    26-40   \n",
       "2          1       3  female  26.0      0      0   7.9250        S    26-40   \n",
       "3          1       1  female  35.0      1      0  53.1000        S    26-40   \n",
       "4          0       3    male  35.0      0      0   8.0500        S    26-40   \n",
       "6          0       1    male  54.0      0      0  51.8625        S    41-60   \n",
       "7          0       3    male   2.0      3      1  21.0750        S     0-18   \n",
       "8          1       3  female  27.0      0      2  11.1333        S    26-40   \n",
       "9          1       2  female  14.0      1      0  30.0708        C     0-18   \n",
       "10         1       3  female   4.0      1      1  16.7000        S     0-18   \n",
       "\n",
       "    FamilySize  \n",
       "0            2  \n",
       "1            2  \n",
       "2            1  \n",
       "3            2  \n",
       "4            1  \n",
       "6            1  \n",
       "7            5  \n",
       "8            3  \n",
       "9            2  \n",
       "10           3  "
      ]
     },
     "execution_count": 19,
     "metadata": {},
     "output_type": "execute_result"
    }
   ],
   "source": [
    "titanic_data.head(10)\n"
   ]
  },
  {
   "cell_type": "code",
   "execution_count": 5,
   "id": "6833ad71",
   "metadata": {},
   "outputs": [
    {
     "name": "stdout",
     "output_type": "stream",
     "text": [
      "<class 'pandas.core.frame.DataFrame'>\n",
      "RangeIndex: 891 entries, 0 to 890\n",
      "Data columns (total 12 columns):\n",
      " #   Column       Non-Null Count  Dtype  \n",
      "---  ------       --------------  -----  \n",
      " 0   PassengerId  891 non-null    int64  \n",
      " 1   Survived     891 non-null    int64  \n",
      " 2   Pclass       891 non-null    int64  \n",
      " 3   Name         891 non-null    object \n",
      " 4   Sex          891 non-null    object \n",
      " 5   Age          714 non-null    float64\n",
      " 6   SibSp        891 non-null    int64  \n",
      " 7   Parch        891 non-null    int64  \n",
      " 8   Ticket       891 non-null    object \n",
      " 9   Fare         891 non-null    float64\n",
      " 10  Cabin        204 non-null    object \n",
      " 11  Embarked     889 non-null    object \n",
      "dtypes: float64(2), int64(5), object(5)\n",
      "memory usage: 83.7+ KB\n"
     ]
    }
   ],
   "source": [
    "titanic_data.info()\n",
    "\n"
   ]
  },
  {
   "cell_type": "code",
   "execution_count": 6,
   "id": "af1cf823",
   "metadata": {},
   "outputs": [
    {
     "data": {
      "text/html": [
       "<div>\n",
       "<style scoped>\n",
       "    .dataframe tbody tr th:only-of-type {\n",
       "        vertical-align: middle;\n",
       "    }\n",
       "\n",
       "    .dataframe tbody tr th {\n",
       "        vertical-align: top;\n",
       "    }\n",
       "\n",
       "    .dataframe thead th {\n",
       "        text-align: right;\n",
       "    }\n",
       "</style>\n",
       "<table border=\"1\" class=\"dataframe\">\n",
       "  <thead>\n",
       "    <tr style=\"text-align: right;\">\n",
       "      <th></th>\n",
       "      <th>PassengerId</th>\n",
       "      <th>Survived</th>\n",
       "      <th>Pclass</th>\n",
       "      <th>Age</th>\n",
       "      <th>SibSp</th>\n",
       "      <th>Parch</th>\n",
       "      <th>Fare</th>\n",
       "    </tr>\n",
       "  </thead>\n",
       "  <tbody>\n",
       "    <tr>\n",
       "      <th>count</th>\n",
       "      <td>891.000000</td>\n",
       "      <td>891.000000</td>\n",
       "      <td>891.000000</td>\n",
       "      <td>714.000000</td>\n",
       "      <td>891.000000</td>\n",
       "      <td>891.000000</td>\n",
       "      <td>891.000000</td>\n",
       "    </tr>\n",
       "    <tr>\n",
       "      <th>mean</th>\n",
       "      <td>446.000000</td>\n",
       "      <td>0.383838</td>\n",
       "      <td>2.308642</td>\n",
       "      <td>29.699118</td>\n",
       "      <td>0.523008</td>\n",
       "      <td>0.381594</td>\n",
       "      <td>32.204208</td>\n",
       "    </tr>\n",
       "    <tr>\n",
       "      <th>std</th>\n",
       "      <td>257.353842</td>\n",
       "      <td>0.486592</td>\n",
       "      <td>0.836071</td>\n",
       "      <td>14.526497</td>\n",
       "      <td>1.102743</td>\n",
       "      <td>0.806057</td>\n",
       "      <td>49.693429</td>\n",
       "    </tr>\n",
       "    <tr>\n",
       "      <th>min</th>\n",
       "      <td>1.000000</td>\n",
       "      <td>0.000000</td>\n",
       "      <td>1.000000</td>\n",
       "      <td>0.420000</td>\n",
       "      <td>0.000000</td>\n",
       "      <td>0.000000</td>\n",
       "      <td>0.000000</td>\n",
       "    </tr>\n",
       "    <tr>\n",
       "      <th>25%</th>\n",
       "      <td>223.500000</td>\n",
       "      <td>0.000000</td>\n",
       "      <td>2.000000</td>\n",
       "      <td>20.125000</td>\n",
       "      <td>0.000000</td>\n",
       "      <td>0.000000</td>\n",
       "      <td>7.910400</td>\n",
       "    </tr>\n",
       "    <tr>\n",
       "      <th>50%</th>\n",
       "      <td>446.000000</td>\n",
       "      <td>0.000000</td>\n",
       "      <td>3.000000</td>\n",
       "      <td>28.000000</td>\n",
       "      <td>0.000000</td>\n",
       "      <td>0.000000</td>\n",
       "      <td>14.454200</td>\n",
       "    </tr>\n",
       "    <tr>\n",
       "      <th>75%</th>\n",
       "      <td>668.500000</td>\n",
       "      <td>1.000000</td>\n",
       "      <td>3.000000</td>\n",
       "      <td>38.000000</td>\n",
       "      <td>1.000000</td>\n",
       "      <td>0.000000</td>\n",
       "      <td>31.000000</td>\n",
       "    </tr>\n",
       "    <tr>\n",
       "      <th>max</th>\n",
       "      <td>891.000000</td>\n",
       "      <td>1.000000</td>\n",
       "      <td>3.000000</td>\n",
       "      <td>80.000000</td>\n",
       "      <td>8.000000</td>\n",
       "      <td>6.000000</td>\n",
       "      <td>512.329200</td>\n",
       "    </tr>\n",
       "  </tbody>\n",
       "</table>\n",
       "</div>"
      ],
      "text/plain": [
       "       PassengerId    Survived      Pclass         Age       SibSp  \\\n",
       "count   891.000000  891.000000  891.000000  714.000000  891.000000   \n",
       "mean    446.000000    0.383838    2.308642   29.699118    0.523008   \n",
       "std     257.353842    0.486592    0.836071   14.526497    1.102743   \n",
       "min       1.000000    0.000000    1.000000    0.420000    0.000000   \n",
       "25%     223.500000    0.000000    2.000000   20.125000    0.000000   \n",
       "50%     446.000000    0.000000    3.000000   28.000000    0.000000   \n",
       "75%     668.500000    1.000000    3.000000   38.000000    1.000000   \n",
       "max     891.000000    1.000000    3.000000   80.000000    8.000000   \n",
       "\n",
       "            Parch        Fare  \n",
       "count  891.000000  891.000000  \n",
       "mean     0.381594   32.204208  \n",
       "std      0.806057   49.693429  \n",
       "min      0.000000    0.000000  \n",
       "25%      0.000000    7.910400  \n",
       "50%      0.000000   14.454200  \n",
       "75%      0.000000   31.000000  \n",
       "max      6.000000  512.329200  "
      ]
     },
     "execution_count": 6,
     "metadata": {},
     "output_type": "execute_result"
    }
   ],
   "source": [
    "titanic_data.describe()\n"
   ]
  },
  {
   "cell_type": "markdown",
   "id": "e4169a4b",
   "metadata": {},
   "source": [
    "# Limpieza y preparación de los datos"
   ]
  },
  {
   "cell_type": "raw",
   "id": "3e8f78a1",
   "metadata": {},
   "source": [
    "En este paso, vamos a realizar algunas tareas de limpieza y preparación de los datos para poder analizarlos y visualizarlos mejor.\n",
    "\n",
    "Primero, eliminamos las columnas que no necesitamos, como PassengerId, Name, Ticket y Cabin."
   ]
  },
  {
   "cell_type": "code",
   "execution_count": 7,
   "id": "0392f09a",
   "metadata": {},
   "outputs": [],
   "source": [
    "titanic_data.drop(['PassengerId', 'Name', 'Ticket', 'Cabin'], axis=1, inplace=True)\n"
   ]
  },
  {
   "cell_type": "raw",
   "id": "3492d738",
   "metadata": {},
   "source": [
    "Luego, eliminamos cualquier fila que tenga valores faltantes en alguna de sus columnas:"
   ]
  },
  {
   "cell_type": "code",
   "execution_count": 8,
   "id": "123674f4",
   "metadata": {},
   "outputs": [],
   "source": [
    "titanic_data.dropna(inplace=True)\n"
   ]
  },
  {
   "cell_type": "raw",
   "id": "7e823958",
   "metadata": {},
   "source": [
    "También podemos crear una nueva columna AgeGroup que agrupe a los pasajeros en diferentes grupos de edad:\n"
   ]
  },
  {
   "cell_type": "code",
   "execution_count": 9,
   "id": "84aa1b10",
   "metadata": {},
   "outputs": [],
   "source": [
    "bins = [0, 18, 25, 40, 60, np.inf]\n",
    "labels = ['0-18', '19-25', '26-40', '41-60', '60+']\n",
    "titanic_data['AgeGroup'] = pd.cut(titanic_data['Age'], bins=bins, labels=labels)\n"
   ]
  },
  {
   "cell_type": "raw",
   "id": "dc64779f",
   "metadata": {},
   "source": [
    "Por último, podemos crear una columna FamilySize que combine las columnas SibSp y Parch para obtener el tamaño de la familia de cada pasajero:"
   ]
  },
  {
   "cell_type": "code",
   "execution_count": 10,
   "id": "36962514",
   "metadata": {},
   "outputs": [],
   "source": [
    "titanic_data['FamilySize'] = titanic_data['SibSp'] + titanic_data['Parch'] + 1\n"
   ]
  },
  {
   "cell_type": "markdown",
   "id": "12becd7b",
   "metadata": {},
   "source": [
    "# Análisis exploratorio de datos"
   ]
  },
  {
   "cell_type": "raw",
   "id": "a150567a",
   "metadata": {},
   "source": [
    "Ahora que hemos preparado nuestros datos, podemos comenzar a analizarlos y visualizarlos para obtener algunas ideas y patrones interesantes.\n",
    "\n",
    "Por ejemplo, podemos utilizar un gráfico de barras para ver la distribución de los pasajeros según su género:"
   ]
  },
  {
   "cell_type": "code",
   "execution_count": 11,
   "id": "41ca0cc1",
   "metadata": {},
   "outputs": [
    {
     "data": {
      "image/png": "[encoded data removed]",
      "text/plain": [
       "<Figure size 640x480 with 1 Axes>"
      ]
     },
     "metadata": {},
     "output_type": "display_data"
    }
   ],
   "source": [
    "sns.countplot(x='Sex', data=titanic_data)\n",
    "plt.show()\n"
   ]
  },
  {
   "cell_type": "raw",
   "id": "64a342e0",
   "metadata": {},
   "source": [
    "También podemos utilizar un gráfico de barras para ver la distribución de los pasajeros según su clase:"
   ]
  },
  {
   "cell_type": "code",
   "execution_count": 13,
   "id": "ff9ec72c",
   "metadata": {},
   "outputs": [
    {
     "data": {
      "image/png": "[encoded data removed]",
      "text/plain": [
       "<Figure size 640x480 with 1 Axes>"
      ]
     },
     "metadata": {},
     "output_type": "display_data"
    }
   ],
   "source": [
    "sns.countplot(x='Pclass', data=titanic_data)\n",
    "plt.show()\n"
   ]
  },
  {
   "cell_type": "raw",
   "id": "13e480e0",
   "metadata": {},
   "source": [
    "Podemos usar un gráfico de barras apiladas para ver la distribución de los pasajeros según su género y su clase:"
   ]
  },
  {
   "cell_type": "code",
   "execution_count": 14,
   "id": "e3c9efad",
   "metadata": {},
   "outputs": [
    {
     "data": {
      "image/png": "[encoded data removed]",
      "text/plain": [
       "<Figure size 640x480 with 1 Axes>"
      ]
     },
     "metadata": {},
     "output_type": "display_data"
    }
   ],
   "source": [
    "sns.countplot(x='Pclass', hue='Sex', data=titanic_data)\n",
    "plt.show()\n"
   ]
  },
  {
   "cell_type": "raw",
   "id": "ef5a8bb5",
   "metadata": {},
   "source": [
    "También podemos utilizar un gráfico de barras agrupadas para ver la tasa de supervivencia según la clase y el género:"
   ]
  },
  {
   "cell_type": "code",
   "execution_count": 15,
   "id": "ac80ec83",
   "metadata": {},
   "outputs": [
    {
     "data": {
      "image/png": "[encoded data removed]",
      "text/plain": [
       "<Figure size 640x480 with 1 Axes>"
      ]
     },
     "metadata": {},
     "output_type": "display_data"
    }
   ],
   "source": [
    "sns.barplot(x='Pclass', y='Survived', hue='Sex', data=titanic_data)\n",
    "plt.show()\n"
   ]
  },
  {
   "cell_type": "raw",
   "id": "210b5ef5",
   "metadata": {},
   "source": [
    "Podemos utilizar un gráfico de densidad para ver la distribución de la edad de los pasajeros:"
   ]
  },
  {
   "cell_type": "code",
   "execution_count": 16,
   "id": "2a451760",
   "metadata": {},
   "outputs": [
    {
     "data": {
      "image/png": "[encoded data removed]",
      "text/plain": [
       "<Figure size 640x480 with 1 Axes>"
      ]
     },
     "metadata": {},
     "output_type": "display_data"
    }
   ],
   "source": [
    "sns.kdeplot(x='Age', data=titanic_data)\n",
    "plt.show()\n"
   ]
  },
  {
   "cell_type": "raw",
   "id": "f9a57a73",
   "metadata": {},
   "source": [
    "podemos utilizar un gráfico de barras para ver la distribución de los pasajeros según su grupo de edad:"
   ]
  },
  {
   "cell_type": "code",
   "execution_count": 17,
   "id": "f53ac691",
   "metadata": {},
   "outputs": [
    {
     "data": {
      "image/png": "[encoded data removed]",
      "text/plain": [
       "<Figure size 640x480 with 1 Axes>"
      ]
     },
     "metadata": {},
     "output_type": "display_data"
    }
   ],
   "source": [
    "sns.countplot(x='AgeGroup', data=titanic_data)\n",
    "plt.show()\n"
   ]
  },
  {
   "cell_type": "raw",
   "id": "cc0b81a3",
   "metadata": {},
   "source": [
    "Podemos utilizar un gráfico de barras agrupadas para ver la tasa de supervivencia según el tamaño de la familia:"
   ]
  },
  {
   "cell_type": "code",
   "execution_count": 18,
   "id": "0bdf4ee4",
   "metadata": {},
   "outputs": [
    {
     "data": {
      "image/png": "[encoded data removed]",
      "text/plain": [
       "<Figure size 640x480 with 1 Axes>"
      ]
     },
     "metadata": {},
     "output_type": "display_data"
    }
   ],
   "source": [
    "sns.barplot(x='FamilySize', y='Survived', data=titanic_data)\n",
    "plt.show()\n"
   ]
  },
  {
   "cell_type": "markdown",
   "id": "7a4df70a",
   "metadata": {},
   "source": [
    "# Resumen ejecutivo"
   ]
  },
  {
   "cell_type": "raw",
   "id": "5fdc63d2",
   "metadata": {},
   "source": [
    "En este proyecto de análisis de datos, utilizamos Python para analizar un conjunto de datos de Titanic. El conjunto de datos contenía información sobre los pasajeros, incluyendo su edad, género, clase, tasa de supervivencia y otros detalles. Utilizamos técnicas de visualización y análisis estadístico para entender mejor la distribución de los pasajeros y las relaciones entre las diferentes variables.\n",
    "\n",
    "Nuestro análisis reveló que la mayoría de los pasajeros eran hombres y que la mayoría de ellos viajaban en tercera clase. También observamos que la tasa de supervivencia fue más alta para las mujeres que para los hombres, y que la tasa de supervivencia fue más alta para los pasajeros de primera clase que para los pasajeros de segunda y tercera clase. Además, descubrimos que la mayoría de los pasajeros tenían entre 26 y 40 años y que las familias más grandes tenían menos probabilidades de sobrevivir que las familias más pequeñas.\n",
    "\n"
   ]
  },
  {
   "cell_type": "markdown",
   "id": "018fe1e7",
   "metadata": {},
   "source": [
    "# Conclusiones"
   ]
  },
  {
   "cell_type": "raw",
   "id": "ba8e4fb2",
   "metadata": {},
   "source": [
    "Finalmente, podemos sacar algunas conclusiones interesantes de nuestros análisis y visualizaciones. Por ejemplo, podemos observar que la mayoría de los pasajeros eran hombres y que la mayoría de los pasajeros viajaban en tercera clase. También podemos ver que la tasa de supervivencia fue más alta para las mujeres que para los hombres, y que la tasa de supervivencia fue más alta para los pasajeros de primera clase que para los pasajeros de segunda y tercera clase. También podemos ver que la mayoría de los pasajeros tenían entre 26 y 40 años y que las familias más grandes tuvieron menos probabilidades de sobrevivir que las familias más pequeñas.\n",
    "\n"
   ]
  }
 ],
 "metadata": {
  "kernelspec": {
   "display_name": "Python 3 (ipykernel)",
   "language": "python",
   "name": "python3"
  },
  "language_info": {
   "codemirror_mode": {
    "name": "ipython",
    "version": 3
   },
   "file_extension": ".py",
   "mimetype": "text/x-python",
   "name": "python",
   "nbconvert_exporter": "python",
   "pygments_lexer": "ipython3",
   "version": "3.11.1"
  }
 },
 "nbformat": 4,
 "nbformat_minor": 5
}
